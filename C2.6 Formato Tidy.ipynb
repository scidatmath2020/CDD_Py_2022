{
 "cells": [
  {
   "cell_type": "markdown",
   "metadata": {},
   "source": [
    "![imagenes](logo.png)"
   ]
  },
  {
   "cell_type": "code",
   "execution_count": 5,
   "metadata": {},
   "outputs": [],
   "source": [
    "import pandas as pd\n",
    "import numpy as np\n",
    "from siuba import *"
   ]
  },
  {
   "cell_type": "code",
   "execution_count": 55,
   "metadata": {},
   "outputs": [
    {
     "data": {
      "text/html": [
       "<div>\n",
       "<style scoped>\n",
       "    .dataframe tbody tr th:only-of-type {\n",
       "        vertical-align: middle;\n",
       "    }\n",
       "\n",
       "    .dataframe tbody tr th {\n",
       "        vertical-align: top;\n",
       "    }\n",
       "\n",
       "    .dataframe thead th {\n",
       "        text-align: right;\n",
       "    }\n",
       "</style>\n",
       "<table border=\"1\" class=\"dataframe\">\n",
       "  <thead>\n",
       "    <tr style=\"text-align: right;\">\n",
       "      <th></th>\n",
       "      <th>Nombre</th>\n",
       "      <th>Matrícula</th>\n",
       "      <th>Matemáticas</th>\n",
       "      <th>Español</th>\n",
       "      <th>Lectura</th>\n",
       "      <th>Aprov_trim</th>\n",
       "      <th>Aprov_gral</th>\n",
       "    </tr>\n",
       "  </thead>\n",
       "  <tbody>\n",
       "    <tr>\n",
       "      <th>0</th>\n",
       "      <td>José</td>\n",
       "      <td>123</td>\n",
       "      <td>10</td>\n",
       "      <td>6</td>\n",
       "      <td>5</td>\n",
       "      <td>Sí</td>\n",
       "      <td>Sí</td>\n",
       "    </tr>\n",
       "    <tr>\n",
       "      <th>1</th>\n",
       "      <td>Miguel</td>\n",
       "      <td>456</td>\n",
       "      <td>9</td>\n",
       "      <td>5</td>\n",
       "      <td>10</td>\n",
       "      <td>Sí</td>\n",
       "      <td>No</td>\n",
       "    </tr>\n",
       "    <tr>\n",
       "      <th>2</th>\n",
       "      <td>Andrea</td>\n",
       "      <td>789</td>\n",
       "      <td>10</td>\n",
       "      <td>5</td>\n",
       "      <td>6</td>\n",
       "      <td>No</td>\n",
       "      <td>Sí</td>\n",
       "    </tr>\n",
       "  </tbody>\n",
       "</table>\n",
       "</div>"
      ],
      "text/plain": [
       "   Nombre  Matrícula  Matemáticas  Español  Lectura Aprov_trim Aprov_gral\n",
       "0    José        123           10        6        5         Sí         Sí\n",
       "1  Miguel        456            9        5       10         Sí         No\n",
       "2  Andrea        789           10        5        6         No         Sí"
      ]
     },
     "execution_count": 55,
     "metadata": {},
     "output_type": "execute_result"
    }
   ],
   "source": [
    "concentrado = {\"Nombre\":[\"José\",\"Miguel\",\"Andrea\"],\n",
    "               \"Matrícula\":[123,456,789],\n",
    "               \"Matemáticas\":[10,9,10],\n",
    "               \"Español\":[6,5,5],\n",
    "               \"Lectura\":[5,10,6],\n",
    "               \"Aprov_trim\":[\"Sí\",\"Sí\",\"No\"],\n",
    "               \"Aprov_gral\":[\"Sí\",\"No\",\"Sí\"]    \n",
    "}\n",
    "\n",
    "concentrado = pd.DataFrame(concentrado)\n",
    "concentrado"
   ]
  },
  {
   "cell_type": "markdown",
   "metadata": {},
   "source": [
    "## Datos en formato tidy\n",
    "\n",
    "|Nombre | Matrícula|Materia     | Evaluación|Aprovechamiento |Resultado |\n",
    "|:------|---------:|:-----------|----------:|:---------------|:---------|\n",
    "|José   |       123|Matemáticas |         10|Aprov_trim      |Sí        |\n",
    "|José   |       123|Matemáticas |         10|Aprov_gral      |Sí        |\n",
    "|José   |       123|Español     |          6|Aprov_trim      |Sí        |\n",
    "|José   |       123|Español     |          6|Aprov_gral      |Sí        |\n",
    "|José   |       123|Lectura     |          5|Aprov_trim      |Sí        |\n",
    "|José   |       123|Lectura     |          5|Aprov_gral      |Sí        |\n",
    "|Miguel |       456|Matemáticas |          9|Aprov_trim      |Sí        |\n",
    "|Miguel |       456|Matemáticas |          9|Aprov_gral      |No        |\n",
    "|Miguel |       456|Español     |          5|Aprov_trim      |Sí        |\n",
    "|Miguel |       456|Español     |          5|Aprov_gral      |No        |\n",
    "|Miguel |       456|Lectura     |         10|Aprov_trim      |Sí        |\n",
    "|Miguel |       456|Lectura     |         10|Aprov_gral      |No        |\n",
    "|Andrea |       789|Matemáticas |         10|Aprov_trim      |No        |\n",
    "|Andrea |       789|Matemáticas |         10|Aprov_gral      |Sí        |\n",
    "|Andrea |       789|Español     |          5|Aprov_trim      |No        |\n",
    "|Andrea |       789|Español     |          5|Aprov_gral      |Sí        |\n",
    "|Andrea |       789|Lectura     |          6|Aprov_trim      |No        |\n",
    "|Andrea |       789|Lectura     |          6|Aprov_gral      |Sí        |"
   ]
  },
  {
   "cell_type": "code",
   "execution_count": 56,
   "metadata": {},
   "outputs": [],
   "source": [
    "def extractor(x):\n",
    "    auxiliar = (concentrado >> \n",
    "                select(_.Nombre,_.Matrícula, _.Evaluación == x) >>\n",
    "                mutate(Materia = x)\n",
    "               )\n",
    "    return auxiliar  "
   ]
  },
  {
   "cell_type": "code",
   "execution_count": 57,
   "metadata": {},
   "outputs": [
    {
     "data": {
      "text/html": [
       "<div>\n",
       "<style scoped>\n",
       "    .dataframe tbody tr th:only-of-type {\n",
       "        vertical-align: middle;\n",
       "    }\n",
       "\n",
       "    .dataframe tbody tr th {\n",
       "        vertical-align: top;\n",
       "    }\n",
       "\n",
       "    .dataframe thead th {\n",
       "        text-align: right;\n",
       "    }\n",
       "</style>\n",
       "<table border=\"1\" class=\"dataframe\">\n",
       "  <thead>\n",
       "    <tr style=\"text-align: right;\">\n",
       "      <th></th>\n",
       "      <th>Nombre</th>\n",
       "      <th>Matrícula</th>\n",
       "      <th>Evaluación</th>\n",
       "      <th>Materia</th>\n",
       "    </tr>\n",
       "  </thead>\n",
       "  <tbody>\n",
       "    <tr>\n",
       "      <th>0</th>\n",
       "      <td>José</td>\n",
       "      <td>123</td>\n",
       "      <td>10</td>\n",
       "      <td>Matemáticas</td>\n",
       "    </tr>\n",
       "    <tr>\n",
       "      <th>1</th>\n",
       "      <td>Miguel</td>\n",
       "      <td>456</td>\n",
       "      <td>9</td>\n",
       "      <td>Matemáticas</td>\n",
       "    </tr>\n",
       "    <tr>\n",
       "      <th>2</th>\n",
       "      <td>Andrea</td>\n",
       "      <td>789</td>\n",
       "      <td>10</td>\n",
       "      <td>Matemáticas</td>\n",
       "    </tr>\n",
       "  </tbody>\n",
       "</table>\n",
       "</div>"
      ],
      "text/plain": [
       "   Nombre  Matrícula  Evaluación      Materia\n",
       "0    José        123          10  Matemáticas\n",
       "1  Miguel        456           9  Matemáticas\n",
       "2  Andrea        789          10  Matemáticas"
      ]
     },
     "execution_count": 57,
     "metadata": {},
     "output_type": "execute_result"
    }
   ],
   "source": [
    "extractor(\"Matemáticas\")"
   ]
  },
  {
   "cell_type": "code",
   "execution_count": 58,
   "metadata": {},
   "outputs": [
    {
     "data": {
      "text/html": [
       "<div>\n",
       "<style scoped>\n",
       "    .dataframe tbody tr th:only-of-type {\n",
       "        vertical-align: middle;\n",
       "    }\n",
       "\n",
       "    .dataframe tbody tr th {\n",
       "        vertical-align: top;\n",
       "    }\n",
       "\n",
       "    .dataframe thead th {\n",
       "        text-align: right;\n",
       "    }\n",
       "</style>\n",
       "<table border=\"1\" class=\"dataframe\">\n",
       "  <thead>\n",
       "    <tr style=\"text-align: right;\">\n",
       "      <th></th>\n",
       "      <th>Nombre</th>\n",
       "      <th>Matrícula</th>\n",
       "      <th>Evaluación</th>\n",
       "      <th>Materia</th>\n",
       "    </tr>\n",
       "  </thead>\n",
       "  <tbody>\n",
       "    <tr>\n",
       "      <th>0</th>\n",
       "      <td>José</td>\n",
       "      <td>123</td>\n",
       "      <td>10</td>\n",
       "      <td>Matemáticas</td>\n",
       "    </tr>\n",
       "    <tr>\n",
       "      <th>1</th>\n",
       "      <td>Miguel</td>\n",
       "      <td>456</td>\n",
       "      <td>9</td>\n",
       "      <td>Matemáticas</td>\n",
       "    </tr>\n",
       "    <tr>\n",
       "      <th>2</th>\n",
       "      <td>Andrea</td>\n",
       "      <td>789</td>\n",
       "      <td>10</td>\n",
       "      <td>Matemáticas</td>\n",
       "    </tr>\n",
       "    <tr>\n",
       "      <th>0</th>\n",
       "      <td>José</td>\n",
       "      <td>123</td>\n",
       "      <td>6</td>\n",
       "      <td>Español</td>\n",
       "    </tr>\n",
       "    <tr>\n",
       "      <th>1</th>\n",
       "      <td>Miguel</td>\n",
       "      <td>456</td>\n",
       "      <td>5</td>\n",
       "      <td>Español</td>\n",
       "    </tr>\n",
       "    <tr>\n",
       "      <th>2</th>\n",
       "      <td>Andrea</td>\n",
       "      <td>789</td>\n",
       "      <td>5</td>\n",
       "      <td>Español</td>\n",
       "    </tr>\n",
       "    <tr>\n",
       "      <th>0</th>\n",
       "      <td>José</td>\n",
       "      <td>123</td>\n",
       "      <td>5</td>\n",
       "      <td>Lectura</td>\n",
       "    </tr>\n",
       "    <tr>\n",
       "      <th>1</th>\n",
       "      <td>Miguel</td>\n",
       "      <td>456</td>\n",
       "      <td>10</td>\n",
       "      <td>Lectura</td>\n",
       "    </tr>\n",
       "    <tr>\n",
       "      <th>2</th>\n",
       "      <td>Andrea</td>\n",
       "      <td>789</td>\n",
       "      <td>6</td>\n",
       "      <td>Lectura</td>\n",
       "    </tr>\n",
       "  </tbody>\n",
       "</table>\n",
       "</div>"
      ],
      "text/plain": [
       "   Nombre  Matrícula  Evaluación      Materia\n",
       "0    José        123          10  Matemáticas\n",
       "1  Miguel        456           9  Matemáticas\n",
       "2  Andrea        789          10  Matemáticas\n",
       "0    José        123           6      Español\n",
       "1  Miguel        456           5      Español\n",
       "2  Andrea        789           5      Español\n",
       "0    José        123           5      Lectura\n",
       "1  Miguel        456          10      Lectura\n",
       "2  Andrea        789           6      Lectura"
      ]
     },
     "execution_count": 58,
     "metadata": {},
     "output_type": "execute_result"
    }
   ],
   "source": [
    "previo = pd.concat([extractor(x) for x in concentrado.columns[2:5]])\n",
    "previo"
   ]
  },
  {
   "cell_type": "code",
   "execution_count": 75,
   "metadata": {},
   "outputs": [
    {
     "name": "stdout",
     "output_type": "stream",
     "text": [
      "   Nombre  Matrícula      Materia  Evaluación Aprovechamiento Resultado\n",
      "0    José        123  Matemáticas          10      Aprov_trim        Sí\n",
      "1  Andrea        789  Matemáticas          10      Aprov_trim        No\n",
      "2    José        123      Español           6      Aprov_trim        Sí\n",
      "3  Miguel        456      Lectura          10      Aprov_trim        Sí\n"
     ]
    }
   ],
   "source": [
    "print(concentrado >> gather(\"Materia\",\n",
    "                      \"Evaluación\",\n",
    "                      _[2:5]) >>\n",
    "               gather(\"Aprovechamiento\",\n",
    "                      \"Resultado\",\n",
    "                       _[2:4]) >>\n",
    "               group_by(_.Materia) >>\n",
    "               filter(_.Evaluación == _.Evaluación.max(),_.Aprovechamiento == \"Aprov_trim\") >>\n",
    " ungroup()\n",
    "    )"
   ]
  }
 ],
 "metadata": {
  "kernelspec": {
   "display_name": "Python 3",
   "language": "python",
   "name": "python3"
  },
  "language_info": {
   "codemirror_mode": {
    "name": "ipython",
    "version": 3
   },
   "file_extension": ".py",
   "mimetype": "text/x-python",
   "name": "python",
   "nbconvert_exporter": "python",
   "pygments_lexer": "ipython3",
   "version": "3.7.7"
  }
 },
 "nbformat": 4,
 "nbformat_minor": 4
}
