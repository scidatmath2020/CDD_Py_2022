{
 "cells": [
  {
   "cell_type": "markdown",
   "metadata": {},
   "source": [
    "![imagenes](logo.png)"
   ]
  },
  {
   "cell_type": "code",
   "execution_count": null,
   "metadata": {},
   "outputs": [],
   "source": [
    "import pandas as pd\n",
    "import numpy as np\n",
    "from siuba import *\n",
    "from siuba.dply.vector import *\n",
    "import os"
   ]
  },
  {
   "cell_type": "code",
   "execution_count": null,
   "metadata": {},
   "outputs": [],
   "source": [
    "## Nos dirigimos a nuestra carpeta de trabajo\n",
    "os.chdir(\"C:\\\\Users\\\\hp master\\\\OneDrive\\\\Escritorio\\\\delitos\")"
   ]
  },
  {
   "cell_type": "code",
   "execution_count": null,
   "metadata": {},
   "outputs": [],
   "source": [
    "## Observamos qué tenemos en esa carpeta\n",
    "os.listdir()"
   ]
  },
  {
   "cell_type": "code",
   "execution_count": null,
   "metadata": {},
   "outputs": [],
   "source": [
    "## Leemos las tablas de delitos\n",
    "delitos = [pd.read_csv(x) for x in os.listdir() if x.startswith(\"delitos\")]"
   ]
  },
  {
   "cell_type": "code",
   "execution_count": null,
   "metadata": {},
   "outputs": [],
   "source": [
    "## Mostramos la primer tabla\n",
    "delitos[0]"
   ]
  },
  {
   "cell_type": "code",
   "execution_count": null,
   "metadata": {},
   "outputs": [],
   "source": [
    "## Leemos la tabla descriptor_delitos y la mostramos\n",
    "descriptor_delitos = pd.read_csv(\"descriptor_delitos.csv\",encoding=\"latin-1\")\n",
    "descriptor_delitos\n",
    "descriptor_delitos.columns"
   ]
  },
  {
   "cell_type": "code",
   "execution_count": null,
   "metadata": {},
   "outputs": [],
   "source": [
    "## Leemos la tabla descriptor_entidades y la mostramos\n",
    "descriptor_entidades = pd.read_csv(\"descriptor_entidades.csv\",encoding=\"latin-1\")\n",
    "descriptor_entidades\n",
    "descriptor_entidades.columns"
   ]
  },
  {
   "cell_type": "code",
   "execution_count": null,
   "metadata": {},
   "outputs": [],
   "source": [
    "(delitos[0] >>\n",
    "    mutate(Año = 0 + 2012) >>\n",
    "    gather(\"cod_del\",\n",
    "           \"total\",\n",
    "           _[1:16]) >>\n",
    "    left_join(_,descriptor_entidades, on = \"entidad\") >>\n",
    "    mutate(cod_del = _.cod_del.astype(\"int\"), total = _.total.astype(\"Int64\")) >>\n",
    "    left_join(_,descriptor_delitos, on = \"cod_del\") >>\n",
    "    select(_.Año, _.Ent_cod == _.entidad,_.Entidad,_.Delito, _.Total == _.total)\n",
    "    )"
   ]
  },
  {
   "cell_type": "code",
   "execution_count": null,
   "metadata": {},
   "outputs": [],
   "source": [
    "def ordenado(x):\n",
    "    auxiliar = (delitos[x] >>\n",
    "                    mutate(Año = x + 2012) >>\n",
    "                    gather(\"cod_del\",\n",
    "                           \"total\",\n",
    "                           _[1:16]) >>\n",
    "                    left_join(_,descriptor_entidades, on = \"entidad\") >>\n",
    "                    mutate(cod_del = _.cod_del.astype(\"int\"), total = _.total.astype(\"Int64\")) >>\n",
    "                    left_join(_,descriptor_delitos, on = \"cod_del\") >>\n",
    "                    select(_.Año, _.Ent_cod == _.entidad,_.Entidad,_.Delito, _.Total == _.total)\n",
    "    )\n",
    "    return auxiliar\n",
    "    "
   ]
  },
  {
   "cell_type": "code",
   "execution_count": null,
   "metadata": {},
   "outputs": [],
   "source": [
    "delitos_tidy = pd.concat([ordenado(x) for x in range(0,10)])"
   ]
  },
  {
   "cell_type": "code",
   "execution_count": null,
   "metadata": {},
   "outputs": [],
   "source": [
    "delitos_tidy"
   ]
  },
  {
   "cell_type": "code",
   "execution_count": null,
   "metadata": {},
   "outputs": [],
   "source": [
    "(delitos_tidy >> \n",
    "    group_by(_.Año,_.Entidad) >> \n",
    "    summarize(Total_delitos_cometidos = _.Total.sum()) >>\n",
    "    arrange(-_.Total_delitos_cometidos) >>\n",
    "    head(10)\n",
    ")"
   ]
  }
 ],
 "metadata": {
  "kernelspec": {
   "display_name": "Python 3",
   "language": "python",
   "name": "python3"
  },
  "language_info": {
   "codemirror_mode": {
    "name": "ipython",
    "version": 3
   },
   "file_extension": ".py",
   "mimetype": "text/x-python",
   "name": "python",
   "nbconvert_exporter": "python",
   "pygments_lexer": "ipython3",
   "version": "3.7.7"
  }
 },
 "nbformat": 4,
 "nbformat_minor": 4
}
