{
 "cells": [
  {
   "cell_type": "markdown",
   "metadata": {},
   "source": [
    "![imagenes](logo.png)"
   ]
  },
  {
   "cell_type": "markdown",
   "metadata": {},
   "source": [
    "# La tabla de covid19\n",
    "\n",
    "En la sección [**data**](https://github.com/scidatmath2020/CDD_Py_2022/tree/main/data) de nuestro repositorio, encontrarás un archivo llamado [datos_covid.txt](https://github.com/scidatmath2020/CDD_Py_2022/blob/main/data/datos_covid.txt), el cual contiene un enlace para descargar la tabla de COVID19 del año 2022. \n",
    "\n",
    "En ella, entre otras cosas, se encuentran las columnas ``ENTIDAD_RES, SEXO, FECHA_SINTOMAS, FECHA_DEF, EDAD y CLASIFICACION_FINAL`` que se describen a continuación:\n",
    "\n",
    "``ENTIDAD_RES`` entidad de residencia de la persona. Se representa por los números 1, 2, 3, ..., 32. \n",
    "\n",
    "``SEXO`` sexo de la persona: 1 para mujer y 2 para hombre.\n",
    "\n",
    "``FECHA_SINTOMAS`` Identifica la fecha en que inició la sintomatología de la persona. **Es una columna de tipo string**.\n",
    "\n",
    "``FECHA_DEF`` Identifica la fecha en que el paciente falleció. **Es una columna de tipo string y toma el valor '9999-99-99' si el paciente no falleció**.\n",
    "\n",
    "``EDAD`` edad del paciente. **Es una columna de tipo numérico**.\n",
    "\n",
    "``CLASIFICACION_FINAL`` identifica si el paciente es un caso de COVID-19. **Es una columna numérica y toma el valor 1, 2 o 3 en caso de ser positio**.\n",
    "\n",
    "Para este proyecto final, utilizarás **siuba**, **siuba.dply.vector** y **plotnine**, además de **pandas** y **numpy**.\n",
    "\n",
    "\n",
    "Deberás resolver los siguientes ítems:"
   ]
  },
  {
   "cell_type": "code",
   "execution_count": 1,
   "metadata": {},
   "outputs": [],
   "source": [
    "# Como la tabla es muy grande, quédate únicamente con las columnas\n",
    "# ENTIDAD_RES, SEXO, FECHA_SINTOMAS, FECHA_DEF, EDAD y CLASIFICACION_FINAL"
   ]
  },
  {
   "cell_type": "code",
   "execution_count": null,
   "metadata": {},
   "outputs": [],
   "source": [
    "# Crea una tabla llamada covid_confirmados donde se encuentren\n",
    "# todos los pacientes que hayan dado positivo al virus. A partir de ahora y hasta el final trabajarás con esta tabla"
   ]
  },
  {
   "cell_type": "code",
   "execution_count": null,
   "metadata": {},
   "outputs": [],
   "source": [
    "# Crea una columna llamada FALLECIMIENTO que valga 0 si el paciente no falleció y 1 si el paciente falleció,\n",
    "# y cambia cada valor \"9999-99-99\" de la columna FECHA_DEF por None"
   ]
  },
  {
   "cell_type": "code",
   "execution_count": null,
   "metadata": {},
   "outputs": [],
   "source": [
    "# En pandas existe un método para convertir columnas de tipo texto a columnas de tipo fecha.\n",
    "# Si tu columna de texto se llama MI_COLUMNA, entonces MI_COLUMNA.astype(\"datetime64[ns]\") te devuelve los mismos valores\n",
    "# pero considerados como fechas.\n",
    "\n",
    "### Ejemplo: Si tienes un dataframe MI_DATA con una columna de textos MI_COLUMNA cuyos valores se pueden representar por \n",
    "### fechas, entonces MI_DATA = MI_DATA >> mutate(MI_COLUMNA = _.MI_COLUMNA.astype(\"datetime64[ns]\")) es el mismo dataframe\n",
    "### pero ahora la columna MI_COLUMNA ya no tiene datos tipo texto, sino tipo fecha\n"
   ]
  },
  {
   "cell_type": "code",
   "execution_count": null,
   "metadata": {},
   "outputs": [],
   "source": [
    "# Encuentra la menor y mayor fecha de la columna FECHA_SINTOMAS (es buena idea utilizar un arrange)"
   ]
  },
  {
   "cell_type": "code",
   "execution_count": null,
   "metadata": {},
   "outputs": [],
   "source": [
    "# En el periodo de fechas que comprende la tabla covid_confirmados, ¿cuántos contagiados hubo? Ayuda: la respuesta\n",
    "# empieza con 3 y termina con 5"
   ]
  },
  {
   "cell_type": "code",
   "execution_count": null,
   "metadata": {},
   "outputs": [],
   "source": [
    "# ¿Cuántas muertes hubo en ese periodo de tiempo? ¿qué porcentaje representa el total de muertes respecto del total\n",
    "# de enfermos?\n",
    "\n",
    "# Sugerencia: utiliza la columna FALLECIMIENTO y un summarize para responder ambas preguntas"
   ]
  },
  {
   "cell_type": "markdown",
   "metadata": {},
   "source": [
    "En la sección [data](https://github.com/scidatmath2020/CDD_Py_2022/tree/main/data) del repositorio encontrarás un csv llamado **catalogo_entidades.csv**. Léelo pero toma en cuenta que hay palabras con acentos, por lo cual utilizarás el parámetro ``encoding=\"latin-1\"`` dentro de tu ``pd.read_csv()``\n",
    "\n",
    "Este csv tiene tres columnas:\n",
    "\n",
    "``ENTIDAD_RES`` es el código numérico de las entidades: 1, 2, 3, ..., 32.\n",
    "\n",
    "``ENTIDAD_FEDERATIVA`` es el nombre completo de las entidades.\n",
    "\n",
    "``ENTIDAD_ABREVIATURA`` es la abreviatura del nombre de las entidades."
   ]
  },
  {
   "cell_type": "code",
   "execution_count": null,
   "metadata": {},
   "outputs": [],
   "source": [
    "# Lleva toda la información de catalogo_entidades hacia covid_confirmados, de modo que en covid_confirmados tengas las columnas\n",
    "# de las abreviaciones y nombres de cada entidad."
   ]
  },
  {
   "cell_type": "markdown",
   "metadata": {},
   "source": [
    "* Realiza un gráfico de barras donde se represente el total de contagiados en cada entidad. El gráfico debe verse así (puedes variar el fondo y los colores), pero toma en cuenta que la gráfica debe ser llamativa.\n",
    "\n",
    "![imagenes](covid_01.png)"
   ]
  },
  {
   "cell_type": "markdown",
   "metadata": {},
   "source": [
    "* Obtén la siguiente tabla, la cual muestra las 10 entidades con más contagios ordenadas de mayor a menor, con el número de contagios y el lugar de la Entidad (1 para la de mas contagios y 10 para la décima con mas contagios)\n",
    "\n",
    "\n",
    "Lugar|\tEntidad_Federativa|\tTotal\n",
    ":-:|:-:|:-:\n",
    "1\t|Ciudad De México|\t760028\n",
    "2\t|México|\t285278\n",
    "3\t|Nuevo León|\t188467\n",
    "4\t|Guanajuato|\t148406\n",
    "5\t|San Luis Potosí|\t133254\n",
    "6\t|Jalisco|\t119313\n",
    "7\t|Veracruz De Ignacio De La Llave|\t101444\n",
    "8\t|Sinaloa|\t101123\n",
    "9\t|Chihuahua|\t85739\n",
    "10\t|Puebla|\t83482\n",
    "\n",
    "* Obtén la siguiente tabla, la cual muestra las 10 entidades con más muertes ordenadas de mayor a menor, con el número de muertes y el lugar de la Entidad (1 para la de mas muertes y 10 para la décima con mas muertes)\n",
    "\n",
    "\n",
    "Lugar\t|Entidad_Federativa|\tTotal\n",
    ":-:|:-:|:-:\n",
    "1\t|Ciudad De México|\t2827\n",
    "2\t|México|2434\n",
    "3\t|Jalisco|\t2008\n",
    "4\t|Nuevo León|\t1525\n",
    "5\t|Guanajuato|\t1312\n",
    "6\t|Veracruz De Ignacio De La Llave|\t1174\n",
    "7\t|Chihuahua|\t1050\n",
    "8\t|Tamaulipas|\t1037\n",
    "9\t|Coahuila De Zaragoza|\t992\n",
    "10\t|Baja California|\t954\n",
    "\n",
    "* Al observar ambas tablas, ¿qué puedes deducir?"
   ]
  },
  {
   "cell_type": "markdown",
   "metadata": {},
   "source": [
    "* Realiza un gráfico de barras donde se represente el total de contagiados en cada entidad segregados por sexo. El gráfico debe verse así (puedes variar el fondo y los colores), pero toma en cuenta que la gráfica debe ser llamativa.\n",
    "\n",
    "![imagenes](covid_02.png)"
   ]
  },
  {
   "cell_type": "markdown",
   "metadata": {},
   "source": [
    "* Realiza un gráfico de líneas donde se represente el total de contagiados diariamente. El gráfico debe verse así (puedes variar el fondo y los colores), pero toma en cuenta que la gráfica debe ser llamativa.\n",
    "\n",
    "![imagenes](covid_03.png)"
   ]
  },
  {
   "cell_type": "markdown",
   "metadata": {},
   "source": [
    "* Realiza un gráfico de líneas donde se represente el total de muertes diariamente. El gráfico debe verse así (puedes variar el fondo y los colores), pero toma en cuenta que la gráfica debe ser llamativa.\n",
    "\n",
    "![imagenes](covid_04.png)"
   ]
  },
  {
   "cell_type": "markdown",
   "metadata": {},
   "source": [
    "**siuba.dply.vector** tiene una función llamada ``cumsum()``. Esta devuelve la suma de los valores acumulados de una columna en una tabla.  Por ejemplo, si tienes la tabla ``MI_TABLA`` dada por \n",
    "\n",
    "col1|col2\n",
    ":-:|:-:\n",
    "dato 1|1\n",
    "dato 2|4\n",
    "dato 3|8\n",
    "dato 4|2\n",
    "\n",
    "entonces ``MI_TABLA >> mutate(suma_acumulada = _.col2.cumsum())`` devuelve\n",
    "\n",
    "col1|col2|suma_acumulada\n",
    ":-:|:-:|:-:\n",
    "dato 1|1|1\n",
    "dato 2|4|5\n",
    "dato 3|8|13\n",
    "dato 4|2|15\n",
    "\n",
    "Es decir, en cualquier renglón de ``suma_acumulada`` están los valores que se obtienen al sumar los renglones previos de ``col2``: 1=1, 1+4=5, 1+4+8=13, 1+4+8+2=15.\n",
    "\n",
    "* Realiza un gráfico de líneas donde se represente el total de muertes acumuladas diariamente. El gráfico debe verse así (puedes variar el fondo y los colores), pero toma en cuenta que la gráfica debe ser llamativa.\n",
    "\n",
    "![imagenes](covid_05.png)"
   ]
  },
  {
   "cell_type": "markdown",
   "metadata": {},
   "source": [
    "* ¿Qué diferencias conceptuales encuentras entre las dos gráficas anteriores? ¿Cómo se relacionan ambas gráficas?\n",
    "\n",
    "**Sugerencia:** piensa en áreas bajo curvas."
   ]
  },
  {
   "cell_type": "markdown",
   "metadata": {},
   "source": [
    "* Realiza un gráfico de líneas donde se represente tanto el total de muertes como el total de muertes acumuladas diariamente. Es decir, un gráfico que muestre las dos curvas anteriores. El gráfico debe verse así (puedes variar el fondo y los colores), pero toma en cuenta que la gráfica debe ser llamativa.\n",
    "\n",
    "**Sugerencia:** calcula con un ``mutate`` y un ``summarize`` el total de muertes y de muertes acumuladas, y luego aplica un ``gather`` para obtener una tabla con formato tidy donde se encuentre una columna que indique si el valor es el diario o el acumulado.\n",
    "\n",
    "![imagenes](covid_06.png)"
   ]
  },
  {
   "cell_type": "markdown",
   "metadata": {},
   "source": [
    "* Realiza un gráfico de cajas donde se muestren las edades de cada una de las 10 entidades con mas contagios, segregadas por valor de fallecimiento. El gráfico debe verse así (puedes variar el fondo y los colores), pero toma en cuenta que la gráfica debe ser llamativa.\n",
    "\n",
    "![imagenes](covid_07.png)"
   ]
  },
  {
   "cell_type": "markdown",
   "metadata": {},
   "source": [
    "* En general, ¿qué puedes decir sobre la edad de la mitad de las personas que fallecieron en cada entidad?"
   ]
  },
  {
   "cell_type": "markdown",
   "metadata": {},
   "source": [
    "En la sección [data](https://github.com/scidatmath2020/CDD_Py_2022/tree/main/data) del repositorio encontrarás un csv llamado **Mexico_division_politica.csv**. \n",
    "\n",
    "Este csv tiene tres columnas:\n",
    "\n",
    "``Longitud, Latitud`` son coordenadas geográficas.\n",
    "\n",
    "``Grupo`` en la sesión final se les explicó el significado de esta columna en los csv de mapas.\n",
    "\n",
    "* Agrega una columna a este dataframe llamada ``ENTIDAD_RES`` que contenga la clave de la entidad. Por ejemplo, si el grupo es ``3.1`` entonces la entidad es ``3``. Llama ``mapa`` al dataframe obtenido, el cual tendrá cuatro columnas.\n",
    "\n",
    "**Sugerencia.** Si ``col1`` es una columna formada por números con decimales, entonces ``col1.astype.(\"int\")`` elimina los decimales. Ahora, procede como cuando convertiste las columnas de texto a fecha en la tabla de ``covid_confirmados``."
   ]
  },
  {
   "cell_type": "markdown",
   "metadata": {},
   "source": [
    "* Toma en cuenta que en la tabla ``mapa`` del punto anterior, las entidades están en la columna ``ENTIDAD_RES``. De la tabla ``covid_confirmados`` calcula el total de contagiados y total de muertes en cada entidad agrupando de manera conveniente, y lleva esa información a ``mapa``, de tal manera que ahora esta tabla tenga seis columnas. Llama ``mapa_final`` a esta tabla."
   ]
  },
  {
   "cell_type": "markdown",
   "metadata": {},
   "source": [
    "*b Explica por qué el siguiente mapa se genera con el código de abajo. Altera algunos colores o fondos para generar tus propios mapas:\n",
    "\n",
    "![imagenes](covid_08.png)\n",
    "\n",
    "\n",
    "``(ggplot() +\n",
    "     geom_polygon(data = mapa_final,\n",
    "                  mapping = aes(x=\"Longitud\",y=\"Latitud\",group=\"Grupo\",fill=\"total_contagiados\"),\n",
    "                  color = \"black\",\n",
    "                  size = 0.01\n",
    "                  ) +\n",
    "     scale_fill_gradient(low = \"yellow\",  \n",
    "                      high = \"darkred\"\n",
    "                      ) +\n",
    "     labs(fill=\"Total de contagiados\") +\n",
    "     theme(panel_background = element_rect(\"#202020\"), \n",
    "        panel_grid = element_blank(),\n",
    "        axis_title = element_blank(), \n",
    "        axis_text = element_blank(), \n",
    "        axis_ticks = element_blank()\n",
    "        )\n",
    ")``"
   ]
  },
  {
   "cell_type": "markdown",
   "metadata": {},
   "source": [
    "* Explica por qué el siguiente mapa se genera con el código de abajo. Altera algunos colores o fondos para generar tus propios mapas:\n",
    "\n",
    "![imagenes](covid_09.png)\n",
    "\n",
    "``(ggplot() +\n",
    "     geom_polygon(data = mapa_final,\n",
    "                  mapping = aes(x=\"Longitud\",y=\"Latitud\",group=\"Grupo\",fill=\"total_muertes\"),color = \"black\",\n",
    "                  size = 0.01) +\n",
    "     scale_fill_gradient(low = \"yellow\",  \n",
    "                      high = \"darkred\"\n",
    "                      ) +\n",
    "     labs(fill=\"Total de defunciones\") +\n",
    "     theme(panel_background = element_rect(\"#202020\"), \n",
    "        panel_grid = element_blank(),\n",
    "        axis_title = element_blank(), \n",
    "        axis_text = element_blank(), \n",
    "        axis_ticks = element_blank()\n",
    "        ) \n",
    " )``"
   ]
  },
  {
   "cell_type": "markdown",
   "metadata": {},
   "source": [
    "* Sé feliz. \n",
    "\n",
    "# Vas por muy buen camino para convertirte en un excelente científico de datos. Espero que pronto volvamos a trabajar juntos.\n",
    "\n",
    "**Equipo de SciData.**\n",
    "\n"
   ]
  }
 ],
 "metadata": {
  "kernelspec": {
   "display_name": "Python 3",
   "language": "python",
   "name": "python3"
  },
  "language_info": {
   "codemirror_mode": {
    "name": "ipython",
    "version": 3
   },
   "file_extension": ".py",
   "mimetype": "text/x-python",
   "name": "python",
   "nbconvert_exporter": "python",
   "pygments_lexer": "ipython3",
   "version": "3.7.7"
  }
 },
 "nbformat": 4,
 "nbformat_minor": 4
}
