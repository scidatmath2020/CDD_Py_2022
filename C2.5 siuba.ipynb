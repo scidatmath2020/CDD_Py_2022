{
 "cells": [
  {
   "cell_type": "markdown",
   "metadata": {},
   "source": [
    "![imagenes](logo.png)"
   ]
  },
  {
   "cell_type": "markdown",
   "metadata": {},
   "source": [
    "# SIUBA\n",
    "\n",
    "El producto interno bruto (PIB) es una medida monetaria del valor de mercado de todos los bienes y servicios finales producidos y vendidos (no revendidos) en un período de tiempo específico por países.\n",
    "\n",
    "El dataframe ``gapminder`` presenta información del PIB de varios países desde el año 1952 hasta el 2007 por periodos de 5 años.\n",
    "\n",
    "Su informacion viene dada por las columnas:\n",
    "\n",
    "* ``country``: país\n",
    "* ``continent``: continente\n",
    "* ``year``: año\n",
    "* ``lifeExp``: esperanza de vida\n",
    "* ``population``: población\n",
    "* ``gdpPercap`` PIB per cápita"
   ]
  },
  {
   "cell_type": "code",
   "execution_count": null,
   "metadata": {},
   "outputs": [],
   "source": [
    "## Mandamos a llamar nuestras bibliotecas principales\n",
    "\n",
    "import pandas as pd\n",
    "import numpy as np\n",
    "from siuba import *\n",
    "from siuba.dply.vector import *"
   ]
  },
  {
   "cell_type": "code",
   "execution_count": null,
   "metadata": {},
   "outputs": [],
   "source": [
    "## Leemos el archivo gapminder.csv\n",
    "gapminder = pd.read_csv(\"gapminder.csv\")"
   ]
  },
  {
   "cell_type": "markdown",
   "metadata": {},
   "source": [
    "## Muestra las primeras filas de gapminder"
   ]
  },
  {
   "cell_type": "code",
   "execution_count": null,
   "metadata": {},
   "outputs": [],
   "source": [
    "gapminder >> head()  #gapminder.head()"
   ]
  },
  {
   "cell_type": "markdown",
   "metadata": {},
   "source": [
    "## Piensa antes de trabajar los datos\n",
    "\n",
    "Una variable, o columna, de tipo categórica es aquella que indica si un renglón pertenece a alguna clase. Por ejemplo, en \n",
    "\n",
    "nombre|sexo|estatura\n",
    ":-:|:-:|:-:\n",
    "Luis|masc|1.70|\n",
    "María|feme|1.65\n",
    "Marco|masc|1.83\n",
    "Helena|feme|1.61\n",
    "Luisa|feme|1.67\n",
    "\n",
    "la columna ``sexo`` nos indica si el renglón corresponde a la clase ``masc`` o a la clase ``feme``. A los diferentes valores que puede tomar una columna que utilizamos para clasificar se les llama *niveles* o *factores*.\n",
    "\n",
    "Si tienes la necesidad de almacenar un pequeño fragmento de sus datos, detente y pregúntate **¿Quiero crear mini conjuntos de datos para cada nivel de alguna clase (o combinación única de varias columnas categóricas) para calcular o graficar algo?**\n",
    "\n",
    "En **caso afirmativo**, usa técnicas de agregación de datos adecuadas. **No dividas los datos en subconjuntos**. O solo divide los datos en subconjuntos como una medida temporal mientras desarrollas tu código para computar o visualizar estos subconjuntos de datos.\n",
    "\n",
    "Si **NO**, entonces tal vez realmente necesitas almacenar una copia de un subconjunto de los datos.\n",
    "\n",
    "Toma en cuenta que las copias y extractos de tus datos saturan tu espacio de trabajo, invitan a cometer errores y generan confusión general. \n",
    "\n",
    "La realidad también puede estar en algún punto intermedio. Encontrarás que los flujos de trabajo que se presentan a continuación pueden ayudarte a lograr tus objetivos con una creación mínima de objetos intermedios temporales."
   ]
  },
  {
   "cell_type": "markdown",
   "metadata": {},
   "source": [
    "## filter() para crear subconjuntos de datos por filas.\n",
    "\n",
    "``filter()`` toma expresiones lógicas y devuelve las filas para las que todos esas expresiones son verdaderas.\n",
    "\n",
    "**Objetivos:**\n",
    "\n",
    "* Encuentra las observaciones donde la esperanza de vida sea inferior a 29\n",
    "* Encuentra las observaciones de Ruanda después del año 1979 (Ruanda en inglés es Rwanda)\n",
    "* Encuentra las observaciones tanto de Ruanda como de Afganistán (Afganistán en inglés es Afghanistan)"
   ]
  },
  {
   "cell_type": "code",
   "execution_count": null,
   "metadata": {},
   "outputs": [],
   "source": [
    "gapminder >> filter(_.lifeExp < 29)  # gapminder[gapminder[\"lifeExp\"] < 29]"
   ]
  },
  {
   "cell_type": "code",
   "execution_count": null,
   "metadata": {},
   "outputs": [],
   "source": [
    "gapminder >> filter(_.country == \"Rwanda\", _.year > 1979) \n",
    "# gapminder[(gapminder[\"country\"] == \"Rwanda\") & (gapminder[\"year\"] > 1979)]"
   ]
  },
  {
   "cell_type": "code",
   "execution_count": null,
   "metadata": {},
   "outputs": [],
   "source": [
    "gapminder >> filter((_.country == \"Rwanda\") | (_.country == \"Afghanistan\"))\n",
    "# gapminder[(gapminder[\"country\"] == \"Rwanda\") | (gapminder[\"country\"] == \"Afghanistan\")]"
   ]
  },
  {
   "cell_type": "code",
   "execution_count": null,
   "metadata": {},
   "outputs": [],
   "source": [
    "gapminder[(gapminder[\"country\"] == \"Rwanda\") | (gapminder[\"country\"] == \"Afghanistan\")]"
   ]
  },
  {
   "cell_type": "markdown",
   "metadata": {},
   "source": [
    "### El método ``.isin()`` de pandas\n",
    "\n",
    "Alternativamente, podemos emplear el método ``.isin()`` de pandas:\n",
    "\n",
    "``columna.isin(<<lista>>)``\n"
   ]
  },
  {
   "cell_type": "code",
   "execution_count": null,
   "metadata": {},
   "outputs": [],
   "source": [
    "gapminder >> filter(_.country.isin([\"Rwanda\",\"Afghanistan\"]))\n",
    "# gapminder[gapminder[\"country\"].isin([\"Rwanda\",\"Afghanistan\"])]"
   ]
  },
  {
   "cell_type": "markdown",
   "metadata": {},
   "source": [
    "## select() para crear subconjuntos de datos en variables o columnas.\n",
    "\n",
    "Utiliza ``select()`` para crear un subconjunto de los datos de las variables.\n",
    "\n",
    "**Objetivos:**\n",
    "\n",
    "* Selecciona las variables ``lifeExp`` y ``year``. Nota que el orden en que estas columnas aparecen en ``gapminder`` es primero ``year`` y luego ``lifeExp``\n",
    "* Obtener las variables ``year`` y ``lifeEx`` para Camboya (Camboya en inglés es Cambodia)"
   ]
  },
  {
   "cell_type": "code",
   "execution_count": null,
   "metadata": {},
   "outputs": [],
   "source": [
    "gapminder >> select(_.lifeExp, _.year)"
   ]
  },
  {
   "cell_type": "code",
   "execution_count": null,
   "metadata": {},
   "outputs": [],
   "source": [
    "gapminder >> filter(_.country == \"Cambodia\") >> select(_.year,_.lifeExp) \n",
    "\n",
    "# gapminder[gapminder[\"country\"] == Cambodia][[\"year\",\"lifeExp\"]]"
   ]
  },
  {
   "cell_type": "markdown",
   "metadata": {},
   "source": [
    "Nota que el orden de los verbos altera el resultado: si primero seleccionamos ``year`` y ``lifeExp``, el dataframe resultante no tendrá columna ``country``,  de modo que no podremos recuperar Camboya"
   ]
  },
  {
   "cell_type": "code",
   "execution_count": null,
   "metadata": {},
   "outputs": [],
   "source": [
    "gapminder >> select(_.year,_.lifeExp) >> filter(_.country == \"Cambodia\") "
   ]
  },
  {
   "cell_type": "markdown",
   "metadata": {},
   "source": [
    "### Los métodos avanzados de selección dentro de pandas\n",
    "\n",
    "Considere el siguiente dataframe"
   ]
  },
  {
   "cell_type": "code",
   "execution_count": null,
   "metadata": {},
   "outputs": [],
   "source": [
    "np.random.seed(2021)\n",
    "mi_dataframe = {\"nombre\":[\"Luis\",\"María\",\"Helena\"],\n",
    "                \"Sexo\":[\"masc\",\"feme\",\"feme\"],\n",
    "                \"Materia_matemáticas\":np.random.randint(0,11,3),\n",
    "                \"Materia_español\":np.random.randint(0,11,3),\n",
    "                \"Materia_inglés\":np.random.randint(0,11,3),\n",
    "                \"Materia_computación\":np.random.randint(0,11,3),\n",
    "                \"Evaluación_trimestral\":np.random.randint(0,11,3),\n",
    "                \"Evaluación_general\":np.random.randint(0,11,3),\n",
    "                \"Trimestral_aprovechamiento\":[\"No\",\"R\",\"No\"],\n",
    "                \"General_aprovechamiento\":[\"No\",\"No\",\"Sí\"]}\n",
    "\n",
    "mi_dataframe = pd.DataFrame(mi_dataframe)\n",
    "mi_dataframe"
   ]
  },
  {
   "cell_type": "markdown",
   "metadata": {},
   "source": [
    "Hay ocasiones en las cuales debemos seleccionar muchas columnas de un dataframe. Pueden ser tantas, que escribir una por una dentro de un select puede llegar a ser tedioso.\n",
    "\n",
    "**Objetivos:**\n",
    "\n",
    "* Mostrar únicamente el nombre y las calificaciones de las materias de las mujeres.\n",
    "* Mostrar únicamente el nombre y las calificaciones de las materias y las evaluaciones de las mujeres.\n",
    "* Mostrar únicamente el nombre, las evaluaciones y los aprovechamientos."
   ]
  },
  {
   "cell_type": "code",
   "execution_count": null,
   "metadata": {},
   "outputs": [],
   "source": [
    "mi_dataframe >> filter(_.Sexo == \"feme\") >> select(_.nombre, _.startswith(\"Materia\"))"
   ]
  },
  {
   "cell_type": "markdown",
   "metadata": {},
   "source": [
    "--------\n",
    "--------\n",
    "**Tarea.**\n",
    "\n",
    "Intenta crear la tabla anterior utilizando únicamente ``pandas`` y ``startswith``.\n",
    "\n",
    "--------\n",
    "--------"
   ]
  },
  {
   "cell_type": "code",
   "execution_count": null,
   "metadata": {},
   "outputs": [],
   "source": [
    "mi_dataframe >> filter(_.Sexo == \"feme\") >> select(_.nombre, _.startswith((\"Evaluación\",\"Materia\")))"
   ]
  },
  {
   "cell_type": "code",
   "execution_count": null,
   "metadata": {},
   "outputs": [],
   "source": [
    "mi_dataframe >> select(_.nombre, _.startswith(\"Evaluación\"),_.endswith(\"aprovechamiento\"))"
   ]
  },
  {
   "cell_type": "markdown",
   "metadata": {},
   "source": [
    "En [esta página](https://siuba.readthedocs.io/en/latest/api_table_core/03_select.html) encontrarás varios métodos de selección en siuba."
   ]
  },
  {
   "cell_type": "markdown",
   "metadata": {},
   "source": [
    "## mutate() para agregar nuevas variables\n",
    "\n",
    "Imagina que quisiéramos recuperar el PIB de cada país. Después de todo, los datos de ``gapminder`` tienen una variable para población (``pop``) y PIB per cápita (``gdpPercap``). \n",
    "\n",
    "``mutate()`` es una función que define e inserta nuevas variables en un dataframe. Puedes hacer referencia a las variables existentes por su nombre."
   ]
  },
  {
   "cell_type": "code",
   "execution_count": null,
   "metadata": {},
   "outputs": [],
   "source": [
    "gapminder >> mutate(gdp = _.gdpPercap * _.population)"
   ]
  },
  {
   "cell_type": "code",
   "execution_count": null,
   "metadata": {},
   "outputs": [],
   "source": [
    "## Quitando la notación científica en todos los dataframes de la sesión actual\n",
    "pd.set_option('display.float_format', lambda x: '%.2f' % x)"
   ]
  },
  {
   "cell_type": "code",
   "execution_count": null,
   "metadata": {},
   "outputs": [],
   "source": [
    "gapminder >> mutate(gdp = _.gdpPercap * _.population)"
   ]
  },
  {
   "cell_type": "code",
   "execution_count": null,
   "metadata": {},
   "outputs": [],
   "source": [
    "## Eliminando el formato de dos decimales que afecta globalmente\n",
    "pd.reset_option('display.float_format')"
   ]
  },
  {
   "cell_type": "code",
   "execution_count": null,
   "metadata": {},
   "outputs": [],
   "source": [
    "## Quitando la notación científica únicamente para la columna de interés\n",
    "\n",
    "gapminder >> mutate(gdp = (_.gdpPercap * _.population).apply(lambda x: '%.2f' % x))"
   ]
  },
  {
   "cell_type": "markdown",
   "metadata": {},
   "source": [
    "Esas cifras del PIB son casi inútilmente grandes y abstractas: \"Una cosa que me molesta son los números grandes que se presentan sin contexto… Si añado un cero a este número, ¿la oración que lo contiene significaría algo diferente para mí? Si la respuesta es 'no', tal vez el número no tiene por qué estar en la oración en primer lugar\".\n",
    "\n",
    "Tal vez sería más significativo para los consumidores de tus tablas y cifras ceñirse al PIB per cápita. Pero, ¿y si reportara el PIB per cápita *relativo con algún país de referencia*? Ya que México es mi hogar, me quedo con eso. Es decir, cuánto representa el PIB per cápita de cada país respecto del de México. \n",
    "\n",
    "Necesito crear una nueva variable que se gdpPercapdivida por el de México, cuidando que siempre divida dos números que pertenezcan al mismo año."
   ]
  },
  {
   "cell_type": "code",
   "execution_count": null,
   "metadata": {},
   "outputs": [],
   "source": [
    "(gapminder >> filter(_.country == \"Mexico\"))[\"gdpPercap\"].tolist()"
   ]
  },
  {
   "cell_type": "code",
   "execution_count": null,
   "metadata": {},
   "outputs": [],
   "source": [
    "gdpPercap_Mex = (gapminder >> filter(_.country == \"Mexico\"))[\"gdpPercap\"].tolist()"
   ]
  },
  {
   "cell_type": "code",
   "execution_count": null,
   "metadata": {},
   "outputs": [],
   "source": [
    "gapminder.shape[0]/12"
   ]
  },
  {
   "cell_type": "code",
   "execution_count": null,
   "metadata": {},
   "outputs": [],
   "source": [
    "total_paises = int(gapminder.shape[0]/12)"
   ]
  },
  {
   "cell_type": "code",
   "execution_count": null,
   "metadata": {},
   "outputs": [],
   "source": [
    "total_paises*gdpPercap_Mex"
   ]
  },
  {
   "cell_type": "code",
   "execution_count": null,
   "metadata": {},
   "outputs": [],
   "source": [
    "mi_gapminder = (gapminder >> \n",
    "    mutate(gdpPercap_respect_Mex = _.gdpPercap*100/(total_paises*gdpPercap_Mex))\n",
    "    )"
   ]
  },
  {
   "cell_type": "markdown",
   "metadata": {},
   "source": [
    "**Objetivos:**\n",
    "\n",
    "* Mostrar los renglones de los países que estuvieron mejor que México\n",
    "* Mostrar los renglones de los países americanes que estuvieron mejor que México\n",
    "* Mostrar cómo evolucionó la economía de Venezuela respecto de la de México "
   ]
  },
  {
   "cell_type": "code",
   "execution_count": null,
   "metadata": {},
   "outputs": [],
   "source": [
    "mi_gapminder >> filter(_.gdpPercap_respect_Mex > 100)"
   ]
  },
  {
   "cell_type": "code",
   "execution_count": null,
   "metadata": {},
   "outputs": [],
   "source": [
    "mi_gapminder >> filter(_.gdpPercap_respect_Mex > 100, _.continent == \"Americas\")"
   ]
  },
  {
   "cell_type": "code",
   "execution_count": null,
   "metadata": {},
   "outputs": [],
   "source": [
    "mi_gapminder >> filter(_.country == \"Venezuela\")"
   ]
  },
  {
   "cell_type": "markdown",
   "metadata": {},
   "source": [
    "## arrange() para ordenar datos por filas de una manera basada en principios\n",
    "\n",
    "``arrange()`` reordena las filas en un dataframe.\n",
    "\n",
    "**Objetivo:**\n",
    "\n",
    "* Ordenar los datos por año y luego por país, en lugar de por país y luego por año.\n",
    "* ¿O tal vez solo desea los datos de 2007, ordenados según la esperanza de vida?\n",
    "* Ah, ¿te gustaría clasificar la esperanza de vida en orden descendente ?"
   ]
  },
  {
   "cell_type": "code",
   "execution_count": null,
   "metadata": {},
   "outputs": [],
   "source": [
    "gapminder >> arrange(_.year,_.country)"
   ]
  },
  {
   "cell_type": "code",
   "execution_count": null,
   "metadata": {},
   "outputs": [],
   "source": [
    "gapminder >> filter(_.year == 2007) >> arrange(_.lifeExp)"
   ]
  },
  {
   "cell_type": "code",
   "execution_count": null,
   "metadata": {},
   "outputs": [],
   "source": [
    "gapminder >> arrange(-_.lifeExp)"
   ]
  },
  {
   "cell_type": "markdown",
   "metadata": {},
   "source": [
    "Te aconsejo que tus análisis NUNCA se basen en filas o variables en un orden específico. Pero una vez que estés preparando tablas para ojos humanos, es imperativo que tomes el control del orden de las filas."
   ]
  },
  {
   "cell_type": "markdown",
   "metadata": {},
   "source": [
    "## rename() para renombrar variables\n",
    "\n",
    "¡Cambiemos el nombre de algunas variables!\n",
    "\n",
    "**Objetivo:**\n",
    "\n",
    "*  Renombrar a las columnas ``country`` y ``gdpPercap`` por su nombre en español"
   ]
  },
  {
   "cell_type": "code",
   "execution_count": null,
   "metadata": {},
   "outputs": [],
   "source": [
    "gapminder >> rename(pais = _.country, pib_percap = _.gdpPercap)"
   ]
  },
  {
   "cell_type": "markdown",
   "metadata": {},
   "source": [
    "### select() también puede utilizarse para cambiar los nombres de las columnas\n",
    "\n",
    "Has visto el uso simple de ``select()``. Hay otro truco que te puede gustar:\n",
    "\n",
    "* ``select()`` puede cambiar el nombre de las variables que solicita mantener. Puedes renombrar una columna en específico utilizando el operador ``==`` de la siguiente manera:\n",
    "\n",
    "``_.nuevo_nombre == _.viejo_nombre``"
   ]
  },
  {
   "cell_type": "code",
   "execution_count": null,
   "metadata": {},
   "outputs": [],
   "source": [
    "(gapminder >>\n",
    "    filter(_.country == \"Burundi\", _.year > 1996) >>\n",
    "    select(_.yr == _.year, _.lifeExp, _.gdpPercap)\n",
    "    ) "
   ]
  },
  {
   "cell_type": "markdown",
   "metadata": {},
   "source": [
    "## group_by() es un arma poderosa\n",
    "\n",
    "Todos hemos tenido colaboradores a los cuales les encanta hacer preguntas aparentemente simples como \"¿qué país experimentó la mayor caída en la esperanza de vida en 5 años?\". De hecho, esa es una pregunta totalmente natural. Pero si no estás utilizando un lenguaje que procese datos, es una pregunta increíblemente molesta de responder.\n",
    "\n",
    "**siuba** ofrece herramientas poderosas para resolver este tipo de problema.\n",
    "\n",
    "* ``group_by()`` agrega estructura adicional a su conjunto de datos (información de agrupación) que sienta las bases para los cálculos dentro de los grupos.\n",
    "\n",
    "* ``summarize()`` toma un conjunto de datos con $n$ observaciones, calcula los resúmenes solicitados y devuelve un conjunto de datos con 1 observación.\n",
    "\n",
    "* ``mutate()`` y ``summarize()`` distinguen entre grupos."
   ]
  },
  {
   "cell_type": "markdown",
   "metadata": {},
   "source": [
    "### Contando cosas\n",
    "\n",
    "Comencemos con el conteo simple. ¿Cuántas observaciones tenemos por continente?"
   ]
  },
  {
   "cell_type": "code",
   "execution_count": null,
   "metadata": {},
   "outputs": [],
   "source": [
    "gapminder >> group_by(_.continent) >> count()"
   ]
  },
  {
   "cell_type": "markdown",
   "metadata": {},
   "source": [
    "Alternativamente, podemos utilizar varias funciones incluídas en ``siuba.dply.vector``. Puedes ver muchas de ellas en https://siuba.readthedocs.io/en/latest/api_extra/vector.html\n",
    "\n",
    "En particular, su función de conteo es ``n()``"
   ]
  },
  {
   "cell_type": "code",
   "execution_count": null,
   "metadata": {},
   "outputs": [],
   "source": [
    "gapminder >> group_by(_.continent) >> summarize(total = n(_))"
   ]
  },
  {
   "cell_type": "markdown",
   "metadata": {},
   "source": [
    "¿Qué pasaría si quisiéramos contar la cantidad de países únicos para cada continente? Puedes calcular múltiples resúmenes dentro de summarize(). \n",
    "\n",
    "Utiliza  ``n_distinct()`` para contar el número de países distintos dentro de cada continente."
   ]
  },
  {
   "cell_type": "code",
   "execution_count": null,
   "metadata": {},
   "outputs": [],
   "source": [
    "gapminder >> group_by(_.continent) >> summarize(total = n(_),paises_distintos = n_distinct(_.country))"
   ]
  },
  {
   "cell_type": "markdown",
   "metadata": {},
   "source": [
    "## Resúmenes más generales\n",
    "\n",
    "Las funciones que aplicará ``summarize()`` incluyen resúmenes estadísticos clásicos. En particular, cualquiera de las que encontramos en la sección de funciones estadísticas de **numpy**"
   ]
  },
  {
   "cell_type": "code",
   "execution_count": null,
   "metadata": {},
   "outputs": [],
   "source": [
    "gapminder >> group_by(_.continent) >> summarize(mean_lifeExp = _.lifeExp.mean())"
   ]
  },
  {
   "cell_type": "code",
   "execution_count": null,
   "metadata": {},
   "outputs": [],
   "source": [
    "mi_gap = gapminder.copy()"
   ]
  },
  {
   "cell_type": "code",
   "execution_count": null,
   "metadata": {},
   "outputs": [],
   "source": [
    "mi_gap[\"lifeExp\"][0] = np.nan"
   ]
  },
  {
   "cell_type": "code",
   "execution_count": null,
   "metadata": {},
   "outputs": [],
   "source": [
    "mi_gap >> group_by(_.continent) >> summarize(mean_lifeExp = _.lifeExp.mean())"
   ]
  },
  {
   "cell_type": "markdown",
   "metadata": {},
   "source": [
    "Centrémonos sólo en Asia. ¿Cuáles son las esperanzas de vida mínima y máxima vistas por año?"
   ]
  },
  {
   "cell_type": "code",
   "execution_count": null,
   "metadata": {},
   "outputs": [],
   "source": [
    "(gapminder >> \n",
    "    filter(_.continent == \"Asia\") >> \n",
    "    group_by(_.year) >> \n",
    "    summarize(esp_min = _.lifeExp.min(), esp_max=_.lifeExp.max())\n",
    "    )"
   ]
  },
  {
   "cell_type": "markdown",
   "metadata": {},
   "source": [
    "Por supuesto, sería mucho más interesante ver qué país contribuyó con estas observaciones extremas. ¿El mínimo (máximo) viene siempre del mismo país? Abordaremos eso en breve."
   ]
  },
  {
   "attachments": {},
   "cell_type": "markdown",
   "metadata": {},
   "source": [
    "## Mutación agrupada\n",
    "\n",
    "A veces no deseas colapsar  las $n$ filas de cada grupo en una sola fila, sino mantener tus grupos, pero calculando nuevas columnas dentro de ellos.\n",
    "\n",
    "Hagamos una nueva variable que sean los años de esperanza de vida ganados (perdidos) en relación con 1952, para cada país individual. Por ejemplo, para el caso de México, queremos la siguiente tabla:\n",
    "\n",
    "country|continent|year|lifeExp|population|gdpPercap|gain_lifeExp\n",
    ":-:|:-:|:-:|:-:|:-:|:-:|:-:|\n",
    "Mexico|Americas|1952|50.789|30144317|3478.125529|0\n",
    "Mexico|Americas|1957|55.19|35015548|4131.546641|4.401\n",
    "Mexico|Americas|1962|58.299|41121485|4581.609385|7.51\n",
    "Mexico|Americas|1967|60.11|47995559|5754.733883|9.321\n",
    "Mexico|Americas|1972|62.361|55984294|6809.40669|11.572\n",
    "Mexico|Americas|1977|65.032|63759976|7674.929108|14.243\n",
    "Mexico|Americas|1982|67.405|71640904|9611.147541|16.616\n",
    "Mexico|Americas|1987|69.498|80122492|8688.156003|18.709\n",
    "Mexico|Americas|1992|71.455|88111030|9472.384295|20.666\n",
    "Mexico|Americas|1997|73.67|95895146|9767.29753|22.881\n",
    "Mexico|Americas|2002|74.902|102479927|10742.44053|24.113\n",
    "Mexico|Americas|2007|76.195|108700891|11977.57496|25.406\n"
   ]
  },
  {
   "cell_type": "markdown",
   "metadata": {},
   "source": [
    "Agrupamos por país y usamos ``mutate()`` para hacer una nueva variable. La función ``first()`` extrae el primer valor de un vector. \n",
    "\n",
    "Observa que ``first()`` está operando sobre el vector de esperanza de vida dentro de cada grupo de países."
   ]
  },
  {
   "cell_type": "code",
   "execution_count": null,
   "metadata": {},
   "outputs": [],
   "source": [
    "gapminder >> group_by(_.country) >> mutate(gain_lifeExp = _.lifeExp-first(_.lifeExp))"
   ]
  },
  {
   "cell_type": "markdown",
   "metadata": {},
   "source": [
    "Si ya no harás ninguna operación extra en el dataframe anterior que involucre grupos, conviene cerrar el agrupamiento con el verbo ``ungroup()``"
   ]
  },
  {
   "cell_type": "code",
   "execution_count": null,
   "metadata": {},
   "outputs": [],
   "source": [
    "gapminder >> group_by(_.country) >> mutate(gain_lifeExp = _.lifeExp-first(_.lifeExp)) >> ungroup()"
   ]
  },
  {
   "cell_type": "markdown",
   "metadata": {},
   "source": [
    "Por el contrario, si todavía vas a trabajar con los grupos, recuerda que tanto ``mutate()`` como ``summarize()`` distinguen los grupos."
   ]
  },
  {
   "cell_type": "code",
   "execution_count": null,
   "metadata": {},
   "outputs": [],
   "source": [
    "(gapminder >>\n",
    "    group_by(_.country) >> \n",
    "    mutate(gain_lifeExp = _.lifeExp-first(_.lifeExp)) >>\n",
    "    summarize(mean_gain_lifeExp = _.gain_lifeExp[1:].mean())\n",
    "    )"
   ]
  }
 ],
 "metadata": {
  "kernelspec": {
   "display_name": "Python 3",
   "language": "python",
   "name": "python3"
  },
  "language_info": {
   "codemirror_mode": {
    "name": "ipython",
    "version": 3
   },
   "file_extension": ".py",
   "mimetype": "text/x-python",
   "name": "python",
   "nbconvert_exporter": "python",
   "pygments_lexer": "ipython3",
   "version": "3.7.7"
  }
 },
 "nbformat": 4,
 "nbformat_minor": 4
}
