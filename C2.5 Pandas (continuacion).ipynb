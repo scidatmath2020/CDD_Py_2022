{
 "cells": [
  {
   "cell_type": "markdown",
   "metadata": {},
   "source": [
    "<img src=\"logo.png\">"
   ]
  },
  {
   "cell_type": "code",
   "execution_count": null,
   "metadata": {},
   "outputs": [],
   "source": [
    "import pandas as pd\n",
    "import numpy as np"
   ]
  },
  {
   "cell_type": "code",
   "execution_count": null,
   "metadata": {},
   "outputs": [],
   "source": [
    "estudiantes = pd.DataFrame(\n",
    "[[\"Hugo\",\"López\",\"123455\",20],\n",
    " [\"Paco\",\"Silva\",\"736923\",35],\n",
    " [\"Luis\",\"Oca\",\"971298\"],\n",
    " [\"Pedro\",\"Ramírez\",\"123098\"]    \n",
    "], index = [\"Registro 1\",\"Registro 2\",\"Registro 3\",\"Registro 4\"],\n",
    "    columns = [\"Nombre\",\"Apellido\",\"Matrícula\",\"Edad\"]\n",
    ")\n"
   ]
  },
  {
   "cell_type": "code",
   "execution_count": null,
   "metadata": {},
   "outputs": [],
   "source": [
    "estudiantes[\"Estado\"] = [\"Activo\",\"Baja\",\"Baja\",\"Activo\"]"
   ]
  },
  {
   "cell_type": "code",
   "execution_count": null,
   "metadata": {},
   "outputs": [],
   "source": [
    "nuevo_elemento = \"Helena, González, 888888, 29, Activo\"\n",
    "#nuevo_elemento.split(\", \")\n",
    "\n",
    "estudiantes.loc[\"Registro 5\"] = nuevo_elemento.split(\", \")\n",
    "estudiantes"
   ]
  },
  {
   "cell_type": "code",
   "execution_count": null,
   "metadata": {},
   "outputs": [],
   "source": [
    "pd.get_dummies(estudiantes[\"Estado\"])"
   ]
  },
  {
   "cell_type": "code",
   "execution_count": null,
   "metadata": {},
   "outputs": [],
   "source": [
    "Frame = pd.concat([estudiantes,pd.get_dummies(estudiantes[\"Estado\"])],axis = 1)\n",
    "Frame"
   ]
  },
  {
   "cell_type": "code",
   "execution_count": null,
   "metadata": {},
   "outputs": [],
   "source": [
    "Frame[\"Fac\"] = [4,3,1,4,2]\n",
    "Frame[\"Sexo\"] = [\"1\",\"1\",\"1\",\"1\",\"0\"]\n",
    "Frame"
   ]
  },
  {
   "cell_type": "code",
   "execution_count": null,
   "metadata": {},
   "outputs": [],
   "source": [
    "Frame.groupby('Estado')[\"Fac\"].sum() # En R es tapply(Frame$Fac,Frame$Estado,sum)"
   ]
  },
  {
   "cell_type": "code",
   "execution_count": null,
   "metadata": {},
   "outputs": [],
   "source": [
    "Frame.groupby(['Estado',\"Sexo\"])[\"Fac\"].sum() # En R es tapply(Frame$Fac,list(Frame$Estado,Frame$Sexo),sum)"
   ]
  }
 ],
 "metadata": {
  "kernelspec": {
   "display_name": "Python 3",
   "language": "python",
   "name": "python3"
  },
  "language_info": {
   "codemirror_mode": {
    "name": "ipython",
    "version": 3
   },
   "file_extension": ".py",
   "mimetype": "text/x-python",
   "name": "python",
   "nbconvert_exporter": "python",
   "pygments_lexer": "ipython3",
   "version": "3.7.7"
  }
 },
 "nbformat": 4,
 "nbformat_minor": 4
}
